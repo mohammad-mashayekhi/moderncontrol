{
 "cells": [
  {
   "cell_type": "code",
   "execution_count": 2,
   "metadata": {},
   "outputs": [
    {
     "name": "stdout",
     "output_type": "stream",
     "text": [
      "p: [1.87082869 2.04124145]\n"
     ]
    }
   ],
   "source": [
    "import numpy as np\n",
    "\n",
    "# Define the matrices\n",
    "A = np.array([[-2, -1, 2],\n",
    "              [-1, -2, 2],\n",
    "              [-2, 0, 2]])\n",
    "B = np.array([[0, 0],\n",
    "              [0, 1],\n",
    "              [1, 0]])\n",
    "f = np.array([1, 1])\n",
    "\n",
    "# Compute b\n",
    "b = B.dot(f)\n",
    "\n",
    "# Eigenvalues and eigenvectors\n",
    "w, v = np.linalg.eig(A)\n",
    "\n",
    "# Inverse of eigenvector matrix\n",
    "v_inv = np.linalg.inv(v)  # Corrected line\n",
    "\n",
    "# Compute p\n",
    "p = v_inv[:2, :].dot(b)\n",
    "\n",
    "print(\"p:\", p)\n"
   ]
  }
 ],
 "metadata": {
  "kernelspec": {
   "display_name": "controlmodern",
   "language": "python",
   "name": "python3"
  },
  "language_info": {
   "codemirror_mode": {
    "name": "ipython",
    "version": 3
   },
   "file_extension": ".py",
   "mimetype": "text/x-python",
   "name": "python",
   "nbconvert_exporter": "python",
   "pygments_lexer": "ipython3",
   "version": "3.12.3"
  }
 },
 "nbformat": 4,
 "nbformat_minor": 2
}
