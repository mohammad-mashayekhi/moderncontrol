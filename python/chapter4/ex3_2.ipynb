{
 "cells": [
  {
   "cell_type": "code",
   "execution_count": 2,
   "metadata": {},
   "outputs": [
    {
     "name": "stdout",
     "output_type": "stream",
     "text": [
      "State Transition Matrix (phi):\n",
      "⎡  t     ⎤\n",
      "⎢ ℯ    0 ⎥\n",
      "⎢        ⎥\n",
      "⎢   t   t⎥\n",
      "⎣t⋅ℯ   ℯ ⎦\n",
      "\n",
      "Homogeneous Solution Part (x1):\n",
      "⎡      -t     ⎤\n",
      "⎢     ℯ       ⎥\n",
      "⎢             ⎥\n",
      "⎢     -t    -t⎥\n",
      "⎣- t⋅ℯ   + ℯ  ⎦\n",
      "\n",
      "Zero-State Response (x_zs):\n",
      "⎡     -t⎤\n",
      "⎢1 - ℯ  ⎥\n",
      "⎢       ⎥\n",
      "⎢    -t ⎥\n",
      "⎣ t⋅ℯ   ⎦\n",
      "\n",
      "Zero-Input Response (x_zi):\n",
      "⎡    t    ⎤\n",
      "⎢   ℯ     ⎥\n",
      "⎢         ⎥\n",
      "⎢   t    t⎥\n",
      "⎣t⋅ℯ  + ℯ ⎦\n",
      "\n",
      "Total Response (x):\n",
      "⎡   t        -t   ⎤\n",
      "⎢  ℯ  + 1 - ℯ     ⎥\n",
      "⎢                 ⎥\n",
      "⎢   t      -t    t⎥\n",
      "⎣t⋅ℯ  + t⋅ℯ   + ℯ ⎦\n"
     ]
    }
   ],
   "source": [
    "import numpy as np\n",
    "import sympy as sp\n",
    "\n",
    "# Define the state-space matrices and initial conditions\n",
    "A = sp.Matrix([[1, 0], [1, 1]])\n",
    "B = sp.Matrix([1, 1])\n",
    "u = 1\n",
    "x0 = sp.Matrix([1, 1])\n",
    "\n",
    "# Define the symbolic variable for time\n",
    "t = sp.symbols('t')\n",
    "\n",
    "# Compute the state transition matrix phi(t)\n",
    "phi = sp.exp(A*t)\n",
    "\n",
    "# Compute the homogeneous solution part exp(-A*t) * B * u\n",
    "x1 = sp.exp(-A*t) * B * u\n",
    "\n",
    "# Compute the zero-state response by integrating x1\n",
    "x_zs = sp.integrate(x1, (t, 0, t))\n",
    "\n",
    "# Compute the zero-input response\n",
    "x_zi = phi * x0\n",
    "\n",
    "# Compute the total response\n",
    "x = x_zi + x_zs\n",
    "\n",
    "# Display the results\n",
    "print(\"State Transition Matrix (phi):\")\n",
    "sp.pprint(phi)\n",
    "\n",
    "print(\"\\nHomogeneous Solution Part (x1):\")\n",
    "sp.pprint(x1)\n",
    "\n",
    "print(\"\\nZero-State Response (x_zs):\")\n",
    "sp.pprint(x_zs)\n",
    "\n",
    "print(\"\\nZero-Input Response (x_zi):\")\n",
    "sp.pprint(x_zi)\n",
    "\n",
    "print(\"\\nTotal Response (x):\")\n",
    "sp.pprint(x)\n"
   ]
  }
 ],
 "metadata": {
  "kernelspec": {
   "display_name": "controlmodern",
   "language": "python",
   "name": "python3"
  },
  "language_info": {
   "codemirror_mode": {
    "name": "ipython",
    "version": 3
   },
   "file_extension": ".py",
   "mimetype": "text/x-python",
   "name": "python",
   "nbconvert_exporter": "python",
   "pygments_lexer": "ipython3",
   "version": "3.12.3"
  }
 },
 "nbformat": 4,
 "nbformat_minor": 2
}
