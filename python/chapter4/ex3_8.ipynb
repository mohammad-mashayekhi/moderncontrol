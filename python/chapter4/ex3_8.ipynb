{
 "cells": [
  {
   "cell_type": "code",
   "execution_count": 1,
   "metadata": {},
   "outputs": [
    {
     "name": "stdout",
     "output_type": "stream",
     "text": [
      "Eigenvalues of A: [-1. -2.]\n",
      "Poles of the system: [-2. -1.]\n",
      "Zeros of the system: [-4.]\n"
     ]
    },
    {
     "name": "stderr",
     "output_type": "stream",
     "text": [
      "/Users/ma.m/.virtualenvs/controlmodern/lib/python3.12/site-packages/scipy/signal/_filter_design.py:1112: BadCoefficients: Badly conditioned filter coefficients (numerator): the results may be meaningless\n",
      "  b, a = normalize(b, a)\n"
     ]
    }
   ],
   "source": [
    "import numpy as np\n",
    "import scipy.signal as signal\n",
    "\n",
    "# Define the state-space matrices\n",
    "A = np.array([[0, 1], [-2, -3]])\n",
    "B = np.array([[1], [1]])\n",
    "C = np.array([[1, 0]])\n",
    "D = np.array([[0]])\n",
    "\n",
    "# Create the state-space system\n",
    "sys = signal.StateSpace(A, B, C, D)\n",
    "\n",
    "# Calculate eigenvalues of A\n",
    "eigenvalues = np.linalg.eigvals(A)\n",
    "\n",
    "# Calculate poles and zeros of the system\n",
    "poles = sys.poles\n",
    "zeros = sys.zeros\n",
    "\n",
    "# Print the results\n",
    "print(\"Eigenvalues of A:\", eigenvalues)\n",
    "print(\"Poles of the system:\", poles)\n",
    "print(\"Zeros of the system:\", zeros)\n"
   ]
  }
 ],
 "metadata": {
  "kernelspec": {
   "display_name": "controlmodern",
   "language": "python",
   "name": "python3"
  },
  "language_info": {
   "codemirror_mode": {
    "name": "ipython",
    "version": 3
   },
   "file_extension": ".py",
   "mimetype": "text/x-python",
   "name": "python",
   "nbconvert_exporter": "python",
   "pygments_lexer": "ipython3",
   "version": "3.12.3"
  }
 },
 "nbformat": 4,
 "nbformat_minor": 2
}
