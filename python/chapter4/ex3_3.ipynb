{
 "cells": [
  {
   "cell_type": "code",
   "execution_count": 1,
   "metadata": {},
   "outputs": [
    {
     "name": "stdout",
     "output_type": "stream",
     "text": [
      "Matrix Exponential exp(A*t):\n",
      "⎡   -2⋅t      -3⋅t      -2⋅t      -3⋅t ⎤\n",
      "⎢3⋅ℯ     - 2⋅ℯ       6⋅ℯ     - 6⋅ℯ     ⎥\n",
      "⎢                                      ⎥\n",
      "⎢    -2⋅t    -3⋅t        -2⋅t      -3⋅t⎥\n",
      "⎣ - ℯ     + ℯ       - 2⋅ℯ     + 3⋅ℯ    ⎦\n"
     ]
    }
   ],
   "source": [
    "import sympy as sp\n",
    "\n",
    "# Define the matrix A\n",
    "A = sp.Matrix([[0, 6], [-1, -5]])\n",
    "\n",
    "# Define the symbolic variables for s and t\n",
    "s, t = sp.symbols('s t')\n",
    "\n",
    "# Compute the matrix exponential exp(A*t)\n",
    "matrix_exponential = sp.exp(A*t)\n",
    "\n",
    "# Display the result\n",
    "print(\"Matrix Exponential exp(A*t):\")\n",
    "sp.pprint(matrix_exponential)\n"
   ]
  }
 ],
 "metadata": {
  "kernelspec": {
   "display_name": "controlmodern",
   "language": "python",
   "name": "python3"
  },
  "language_info": {
   "codemirror_mode": {
    "name": "ipython",
    "version": 3
   },
   "file_extension": ".py",
   "mimetype": "text/x-python",
   "name": "python",
   "nbconvert_exporter": "python",
   "pygments_lexer": "ipython3",
   "version": "3.12.3"
  }
 },
 "nbformat": 4,
 "nbformat_minor": 2
}
