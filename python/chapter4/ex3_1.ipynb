{
 "cells": [
  {
   "cell_type": "code",
   "execution_count": 1,
   "metadata": {},
   "outputs": [
    {
     "name": "stdout",
     "output_type": "stream",
     "text": [
      "Observability Matrix (O):\n",
      "[[ 1. -1.]\n",
      " [-2.  2.]]\n",
      "\n",
      "Rank of the Observability Matrix (O):\n",
      "1\n",
      "\n",
      "Null Space of the Observability Matrix (O):\n",
      "[[0.70710678]\n",
      " [0.70710678]]\n"
     ]
    }
   ],
   "source": [
    "import numpy as np\n",
    "from scipy.linalg import null_space\n",
    "\n",
    "# Define the state-space matrices\n",
    "A = np.array([[-3/2, 1/2],\n",
    "              [1/2, -3/2]])\n",
    "\n",
    "C = np.array([[1, -1]])\n",
    "\n",
    "# Compute the observability matrix\n",
    "def observability_matrix(A, C):\n",
    "    n = A.shape[0]\n",
    "    O = C\n",
    "    for i in range(1, n):\n",
    "        O = np.vstack((O, C @ np.linalg.matrix_power(A, i)))\n",
    "    return O\n",
    "\n",
    "O = observability_matrix(A, C)\n",
    "\n",
    "# Compute the rank of the observability matrix\n",
    "O_rank = np.linalg.matrix_rank(O)\n",
    "\n",
    "# Compute the null space of the observability matrix\n",
    "O_null_space = null_space(O)\n",
    "\n",
    "print(\"Observability Matrix (O):\")\n",
    "print(O)\n",
    "\n",
    "print(\"\\nRank of the Observability Matrix (O):\")\n",
    "print(O_rank)\n",
    "\n",
    "print(\"\\nNull Space of the Observability Matrix (O):\")\n",
    "print(O_null_space)\n"
   ]
  }
 ],
 "metadata": {
  "kernelspec": {
   "display_name": "controlmodern",
   "language": "python",
   "name": "python3"
  },
  "language_info": {
   "codemirror_mode": {
    "name": "ipython",
    "version": 3
   },
   "file_extension": ".py",
   "mimetype": "text/x-python",
   "name": "python",
   "nbconvert_exporter": "python",
   "pygments_lexer": "ipython3",
   "version": "3.12.3"
  }
 },
 "nbformat": 4,
 "nbformat_minor": 2
}
