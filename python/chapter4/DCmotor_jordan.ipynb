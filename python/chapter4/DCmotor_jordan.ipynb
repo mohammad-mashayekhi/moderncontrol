{
 "cells": [
  {
   "cell_type": "code",
   "execution_count": 4,
   "metadata": {},
   "outputs": [
    {
     "name": "stdout",
     "output_type": "stream",
     "text": [
      "Eigenvalues of A:\n",
      "[  0.          -2.47403548 -21.52596452]\n",
      "\n",
      "Eigenvectors of A:\n",
      "[[ 1.         -0.33290784  0.00938002]\n",
      " [ 0.          0.82362581 -0.20191394]\n",
      " [ 0.         -0.45914364  0.97935835]]\n",
      "\n",
      "Eigenvalues of A transpose:\n",
      "[-21.52596452  -2.47403548   0.        ]\n",
      "\n",
      "Eigenvectors of A transpose:\n",
      "[[ 0.          0.          0.90907852]\n",
      " [-0.48691774 -0.97940144  0.40967937]\n",
      " [-0.87344783 -0.20192283  0.07575654]]\n"
     ]
    }
   ],
   "source": [
    "import numpy as np\n",
    "from scipy.signal import StateSpace\n",
    "\n",
    "# Define the state-space matrices\n",
    "A = np.array([[0, 1, 0],\n",
    "              [0, 0, 4.438],\n",
    "              [0, -12, -24]])\n",
    "\n",
    "b1 = np.array([[0],\n",
    "               [0],\n",
    "               [20]])\n",
    "\n",
    "b2 = np.array([[0],\n",
    "               [-7.396],\n",
    "               [0]])\n",
    "\n",
    "# Concatenate b1 and b2 along axis=1 to form B\n",
    "B = np.hstack((b1, b2))\n",
    "\n",
    "C = np.array([[1, 0, 0],\n",
    "              [0, 1, 0]])\n",
    "\n",
    "# D should be 2x2 to match the number of outputs (rows of C) and inputs (columns of B)\n",
    "D = np.array([[0, 0],\n",
    "              [0, 0]])\n",
    "\n",
    "# Create the StateSpace object\n",
    "DC_motor = StateSpace(A, B, C, D)\n",
    "\n",
    "# Compute eigenvalues and eigenvectors\n",
    "eigenvalues, eigenvectors = np.linalg.eig(A)\n",
    "eigenvalues_conjugate, eigenvectors_conjugate = np.linalg.eig(A.T)\n",
    "\n",
    "print(\"Eigenvalues of A:\")\n",
    "print(eigenvalues)\n",
    "\n",
    "print(\"\\nEigenvectors of A:\")\n",
    "print(eigenvectors)\n",
    "\n",
    "print(\"\\nEigenvalues of A transpose:\")\n",
    "print(eigenvalues_conjugate)\n",
    "\n",
    "print(\"\\nEigenvectors of A transpose:\")\n",
    "print(eigenvectors_conjugate)\n"
   ]
  },
  {
   "cell_type": "code",
   "execution_count": null,
   "metadata": {},
   "outputs": [],
   "source": []
  }
 ],
 "metadata": {
  "kernelspec": {
   "display_name": "controlmodern",
   "language": "python",
   "name": "python3"
  },
  "language_info": {
   "codemirror_mode": {
    "name": "ipython",
    "version": 3
   },
   "file_extension": ".py",
   "mimetype": "text/x-python",
   "name": "python",
   "nbconvert_exporter": "python",
   "pygments_lexer": "ipython3",
   "version": "3.12.3"
  }
 },
 "nbformat": 4,
 "nbformat_minor": 2
}
