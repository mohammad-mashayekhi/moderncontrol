{
 "cells": [
  {
   "cell_type": "code",
   "execution_count": 2,
   "metadata": {},
   "outputs": [
    {
     "name": "stdout",
     "output_type": "stream",
     "text": [
      "Jordan form J:\n",
      " [[ 1.00000000e+000 -1.00000000e+000 -9.85329278e-002  9.85329278e-002]\n",
      " [ 0.00000000e+000  4.00833672e-292 -4.36223867e-001 -4.36223867e-001]\n",
      " [ 0.00000000e+000  0.00000000e+000  1.97065856e-001 -1.97065856e-001]\n",
      " [ 0.00000000e+000  0.00000000e+000  8.72447734e-001  8.72447734e-001]]\n",
      "Transformation matrix T:\n",
      " [ 0.          0.          4.42718872 -4.42718872]\n",
      "Transformed B matrix Bn:\n",
      " [[3.74220058e+291]\n",
      " [3.74220058e+291]\n",
      " [5.73100233e-001]\n",
      " [5.73100233e-001]]\n",
      "Transformed C matrix Cn:\n",
      " [[ 1.         -1.         -0.09853293  0.09853293]\n",
      " [ 0.          0.          0.19706586 -0.19706586]]\n",
      "\n",
      "Example 3-13 Jordan form J:\n",
      " [[ 1.00000000e+00+0.00000000e+00j -7.07106781e-01+0.00000000e+00j\n",
      "   7.07106781e-01+0.00000000e+00j  7.07106781e-01-0.00000000e+00j]\n",
      " [ 0.00000000e+00+0.00000000e+00j  7.07106781e-01+0.00000000e+00j\n",
      "  -7.07106781e-01+6.30641905e-09j -7.07106781e-01-6.30641905e-09j]\n",
      " [ 0.00000000e+00+0.00000000e+00j  0.00000000e+00+0.00000000e+00j\n",
      "   7.81174669e-19+5.25534921e-10j  7.81174669e-19-5.25534921e-10j]\n",
      " [ 0.00000000e+00+0.00000000e+00j  0.00000000e+00+0.00000000e+00j\n",
      "  -4.29646068e-18-5.25534921e-10j -4.29646068e-18+5.25534921e-10j]]\n",
      "Example 3-13 transformation matrix T:\n",
      " [ 0.+0.00000000e+00j -1.+0.00000000e+00j -1.+6.68896751e-09j\n",
      " -1.-6.68896751e-09j]\n"
     ]
    }
   ],
   "source": [
    "import numpy as np\n",
    "\n",
    "# Define matrix A\n",
    "A = np.array([\n",
    "    [0, 1, 0, 0],\n",
    "    [0, 0, -9.8, 0],\n",
    "    [0, 0, 0, 1],\n",
    "    [0, 0, 19.6, 0]\n",
    "])\n",
    "\n",
    "# Define vector B\n",
    "B = np.array([0, 1, 0, 1]).reshape(-1, 1)\n",
    "\n",
    "# Define matrix C\n",
    "C = np.array([\n",
    "    [1, 0, 0, 0],\n",
    "    [0, 0, 1, 0]\n",
    "])\n",
    "\n",
    "# Compute Jordan form and transformation matrices\n",
    "T, J = np.linalg.eig(A)\n",
    "\n",
    "# Calculate transformed B and C matrices\n",
    "T_inv = np.linalg.inv(J)\n",
    "Bn = T_inv @ B\n",
    "Cn = C @ J\n",
    "\n",
    "print(\"Jordan form J:\\n\", J)\n",
    "print(\"Transformation matrix T:\\n\", T)\n",
    "print(\"Transformed B matrix Bn:\\n\", Bn)\n",
    "print(\"Transformed C matrix Cn:\\n\", Cn)\n",
    "\n",
    "# Example 3-13\n",
    "A_example = np.array([\n",
    "    [0, 1, 0, 3],\n",
    "    [0, -1, 1, 10],\n",
    "    [0, 0, 0, 1],\n",
    "    [0, 0, -1, -2]\n",
    "])\n",
    "\n",
    "# Compute Jordan form and transformation matrices for Example 3-13\n",
    "T_example, J_example = np.linalg.eig(A_example)\n",
    "\n",
    "print(\"\\nExample 3-13 Jordan form J:\\n\", J_example)\n",
    "print(\"Example 3-13 transformation matrix T:\\n\", T_example)\n"
   ]
  },
  {
   "cell_type": "code",
   "execution_count": null,
   "metadata": {},
   "outputs": [],
   "source": []
  }
 ],
 "metadata": {
  "kernelspec": {
   "display_name": "controlmodern",
   "language": "python",
   "name": "python3"
  },
  "language_info": {
   "codemirror_mode": {
    "name": "ipython",
    "version": 3
   },
   "file_extension": ".py",
   "mimetype": "text/x-python",
   "name": "python",
   "nbconvert_exporter": "python",
   "pygments_lexer": "ipython3",
   "version": "3.12.3"
  }
 },
 "nbformat": 4,
 "nbformat_minor": 2
}
