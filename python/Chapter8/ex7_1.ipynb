{
 "cells": [
  {
   "cell_type": "code",
   "execution_count": 1,
   "metadata": {},
   "outputs": [
    {
     "name": "stdout",
     "output_type": "stream",
     "text": [
      "Feedback gain matrix K:\n",
      "[[-3.79192637e-13]\n",
      " [ 2.34744000e+02]\n",
      " [-9.36913625e+02]\n",
      " [-2.76050117e+01]]\n"
     ]
    }
   ],
   "source": [
    "import numpy as np\n",
    "from scipy.signal import place_poles\n",
    "\n",
    "# Define the system matrix A and output matrix C\n",
    "A = np.array([\n",
    "    [0, 1, 0, 0],\n",
    "    [0, 0, 4.438, -7.396],\n",
    "    [0, -12, -24, 0],\n",
    "    [0, 0, 0, 0]\n",
    "])\n",
    "\n",
    "C = np.array([[1, 0, 0, 0]])\n",
    "\n",
    "# Desired closed-loop pole locations\n",
    "pd = np.array([-5 + 5j, -5 - 5j, -7 + 7j, -7 - 7j])\n",
    "\n",
    "# Perform pole placement using scipy.signal.place_poles\n",
    "G = place_poles(A.T, C.T, pd)\n",
    "\n",
    "# Extract the feedback gain matrix K\n",
    "K = G.gain_matrix.T\n",
    "\n",
    "# Print the feedback gain matrix K\n",
    "print(\"Feedback gain matrix K:\")\n",
    "print(K)\n"
   ]
  },
  {
   "cell_type": "code",
   "execution_count": null,
   "metadata": {},
   "outputs": [],
   "source": []
  }
 ],
 "metadata": {
  "kernelspec": {
   "display_name": "controlmodern",
   "language": "python",
   "name": "python3"
  },
  "language_info": {
   "codemirror_mode": {
    "name": "ipython",
    "version": 3
   },
   "file_extension": ".py",
   "mimetype": "text/x-python",
   "name": "python",
   "nbconvert_exporter": "python",
   "pygments_lexer": "ipython3",
   "version": "3.12.3"
  }
 },
 "nbformat": 4,
 "nbformat_minor": 2
}
