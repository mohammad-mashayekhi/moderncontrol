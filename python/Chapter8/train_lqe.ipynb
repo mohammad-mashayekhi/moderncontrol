{
 "cells": [
  {
   "cell_type": "code",
   "execution_count": 2,
   "metadata": {},
   "outputs": [
    {
     "name": "stdout",
     "output_type": "stream",
     "text": [
      "LQ Observer Gain Matrix (G):\n",
      "[[ 5.21750809e+13  6.95667746e+13]\n",
      " [ 1.60533490e+15  2.14044653e+15]\n",
      " [ 1.16416867e+16  1.55222490e+16]\n",
      " [-1.35197780e+16 -1.80263707e+16]\n",
      " [-3.91313107e+13 -5.21750809e+13]\n",
      " [-6.48091372e+15 -8.64121830e+15]\n",
      " [-5.34470949e+16 -7.12627932e+16]\n",
      " [-4.96865497e+15 -6.62487329e+15]\n",
      " [-2.16214359e+17 -2.88285811e+17]]\n"
     ]
    },
    {
     "name": "stderr",
     "output_type": "stream",
     "text": [
      "/var/folders/7c/65ybpm_s0fbft1rbj1gq1snw0000gn/T/ipykernel_57182/2145403092.py:26: UserWarning: Convergence was not reached after maxiter iterations.\n",
      "You asked for a tolerance of 0.001, we got 1.0.\n",
      "  G = place_poles(A.T, C.T, desired_poles)\n"
     ]
    }
   ],
   "source": [
    "import numpy as np\n",
    "from scipy.signal import place_poles\n",
    "\n",
    "# Define the system matrices A and C\n",
    "A = np.array([\n",
    "    [0,   0,    0,    0,   1,   -1,   0,    0,    0],\n",
    "    [0,   0,    0,    0,   0,    1,  -1,    0,    0],\n",
    "    [0,   0,    0,    0,   0,    0,   1,   -1,    0],\n",
    "    [0,   0,    0,    0,   0,    0,   0,    1,   -1],\n",
    "    [-12.5, 0,    0,    0,  -0.75, 0.75,  0,    0,    0],\n",
    "    [62.5, -62.5, 0,    0,   3.75, -7.5,  3.75, 0,    0],\n",
    "    [0,   62.5, -62.5, 0,   0,    3.75, -7.5,  3.75, 0],\n",
    "    [0,   0,    62.5, -62.5, 0,    0,    3.75, -7.5,  3.75],\n",
    "    [0,   0,    0,    62.5, 0,    0,    0,    3.75, -3.75]\n",
    "])\n",
    "\n",
    "C = np.array([\n",
    "    [1, 0, 0, 0, 0, 0, 0, 0, 0],\n",
    "    [0, 0, 0, 0, 1, 0, 0, 0, 0]\n",
    "])\n",
    "\n",
    "# Desired poles for the observer (LQ design)\n",
    "desired_poles = np.array([-10, -10, -20, -20, -30, -30, -40, -40, -50])\n",
    "\n",
    "# Compute the LQ observer gain using scipy.signal.place_poles\n",
    "G = place_poles(A.T, C.T, desired_poles)\n",
    "K = G.gain_matrix.T\n",
    "\n",
    "# Print the LQ observer gain matrix\n",
    "print(\"LQ Observer Gain Matrix (G):\")\n",
    "print(K)\n"
   ]
  },
  {
   "cell_type": "code",
   "execution_count": null,
   "metadata": {},
   "outputs": [],
   "source": []
  }
 ],
 "metadata": {
  "kernelspec": {
   "display_name": "controlmodern",
   "language": "python",
   "name": "python3"
  },
  "language_info": {
   "codemirror_mode": {
    "name": "ipython",
    "version": 3
   },
   "file_extension": ".py",
   "mimetype": "text/x-python",
   "name": "python",
   "nbconvert_exporter": "python",
   "pygments_lexer": "ipython3",
   "version": "3.12.3"
  }
 },
 "nbformat": 4,
 "nbformat_minor": 2
}
