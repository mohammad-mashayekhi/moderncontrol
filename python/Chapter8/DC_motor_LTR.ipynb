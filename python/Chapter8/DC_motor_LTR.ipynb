{
 "cells": [
  {
   "cell_type": "code",
   "execution_count": 2,
   "metadata": {},
   "outputs": [
    {
     "name": "stdout",
     "output_type": "stream",
     "text": [
      "State feedback gain K:\n",
      "[[ 3.          0.87955069  0.15290229 -1.8189703 ]]\n",
      "Observer gain G:\n",
      "[[  -1.        ]\n",
      " [ 235.744     ]\n",
      " [-978.17073888]\n",
      " [ -20.48698474]]\n"
     ]
    }
   ],
   "source": [
    "import numpy as np\n",
    "import control\n",
    "\n",
    "# ماتریس‌ها\n",
    "A = np.array([\n",
    "    [0, 1, 0, 0],\n",
    "    [0, 0, 4.438, -7.396],\n",
    "    [0, -12, -24, 0],\n",
    "    [0, 0, 0, -1]\n",
    "])\n",
    "\n",
    "b = np.array([0, 0, 20, 0]).reshape(-1, 1)\n",
    "c = np.array([1, 0, 0, 0]).reshape(1, -1)\n",
    "\n",
    "# طراحی فیدبک حالت\n",
    "R = 1\n",
    "Q1 = np.diag([9, 0, 0, 0])\n",
    "K, _, _ = control.lqr(A, b, Q1, R)\n",
    "\n",
    "print('State feedback gain K:')\n",
    "print(K)\n",
    "\n",
    "# طراحی ناظر حالت\n",
    "pd = [-5-5j, -5+5j, -7+7j, -7-7j]\n",
    "G = control.place(A.T, c.T, pd).T\n",
    "\n",
    "print('Observer gain G:')\n",
    "print(G)\n"
   ]
  }
 ],
 "metadata": {
  "kernelspec": {
   "display_name": "controlmodern",
   "language": "python",
   "name": "python3"
  },
  "language_info": {
   "codemirror_mode": {
    "name": "ipython",
    "version": 3
   },
   "file_extension": ".py",
   "mimetype": "text/x-python",
   "name": "python",
   "nbconvert_exporter": "python",
   "pygments_lexer": "ipython3",
   "version": "3.12.3"
  }
 },
 "nbformat": 4,
 "nbformat_minor": 2
}
