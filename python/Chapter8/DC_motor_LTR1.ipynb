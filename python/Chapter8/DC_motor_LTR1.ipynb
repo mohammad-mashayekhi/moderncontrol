{
 "cells": [
  {
   "cell_type": "code",
   "execution_count": 4,
   "metadata": {},
   "outputs": [],
   "source": [
    "import numpy as np\n",
    "\n",
    "# تعریف پارامترها\n",
    "class Par:\n",
    "    Tl = 0.01\n",
    "\n",
    "# تابع دینامیکی موتور DC\n",
    "def DC_motor_LTR1(t, X):\n",
    "    global Par\n",
    "    # متغیرهای حالت\n",
    "    x = X[:3]\n",
    "    xh = X[3:]\n",
    "\n",
    "    # ماتریس‌های سیستم واقعی\n",
    "    A = np.array([\n",
    "        [0, 1, 0],\n",
    "        [0, 0, 4.438],\n",
    "        [0, -12, -24]\n",
    "    ])\n",
    "    B = np.array([\n",
    "        [0, 0],\n",
    "        [0, -7.396],\n",
    "        [20, 0]\n",
    "    ])\n",
    "    C = np.array([1, 0, 0])\n",
    "\n",
    "    # مدل ناظر با اختلال Tl=0.01*exp(-t)\n",
    "    Ah = np.array([\n",
    "        [0, 1, 0, 0],\n",
    "        [0, 0, 4.438, -7.396],\n",
    "        [0, -12, -24, 0],\n",
    "        [0, 0, 0, -1]\n",
    "    ])\n",
    "    Bh = np.array([0, 0, 20, 0]).reshape(-1, 1)\n",
    "    Ch = np.array([1, 0, 0, 0])\n",
    "\n",
    "    # بهره‌های فیدبک حالت و ناظر حالت\n",
    "    k = np.array([3.0000, 0.8796, 0.1529, -1.8190])\n",
    "    G = np.array([-1.0000, 235.7440, -978.1707, -20.4870]).reshape(-1, 1)\n",
    "\n",
    "    # موقعیت زاویه‌ای مطلوب\n",
    "    theta_d = 0\n",
    "    # اختلال نمایی\n",
    "    Tl = Par.Tl * np.exp(-t)\n",
    "    v = -np.dot(k, xh)\n",
    "    u = np.array([v, Tl]).reshape(-1, 1)\n",
    "\n",
    "    # معادلات نهایی\n",
    "    xhp = np.dot(Ah, xh) + np.dot(Bh, v) + np.dot(G, (np.dot(C, x) - np.dot(Ch, xh)))\n",
    "    xp = np.dot(A, x) + np.dot(B, u)\n",
    "    Xp = np.concatenate((xp, xhp.flatten()))\n",
    "\n",
    "    return Xp\n",
    "\n",
    "\n"
   ]
  },
  {
   "cell_type": "code",
   "execution_count": null,
   "metadata": {},
   "outputs": [],
   "source": []
  }
 ],
 "metadata": {
  "kernelspec": {
   "display_name": "controlmodern",
   "language": "python",
   "name": "python3"
  },
  "language_info": {
   "codemirror_mode": {
    "name": "ipython",
    "version": 3
   },
   "file_extension": ".py",
   "mimetype": "text/x-python",
   "name": "python",
   "nbconvert_exporter": "python",
   "pygments_lexer": "ipython3",
   "version": "3.12.3"
  }
 },
 "nbformat": 4,
 "nbformat_minor": 2
}
