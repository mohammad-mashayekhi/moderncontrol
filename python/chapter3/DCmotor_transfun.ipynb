{
 "cells": [
  {
   "cell_type": "code",
   "execution_count": 7,
   "metadata": {},
   "outputs": [
    {
     "name": "stdout",
     "output_type": "stream",
     "text": [
      "Transfer Function:\n",
      "Input 1:\n",
      "Numerator: [0.00000000e+00 3.55271368e-15 2.13162821e-14 8.87600000e+01]\n",
      "Denominator: [ 1.    24.    53.256  0.   ]\n",
      "\n",
      "Zero-Pole-Gain for input 1:\n",
      "Zeros: [-4.16395316e+15]\n",
      "Poles: [-21.52596452  -2.47403548   0.        ]\n",
      "Gain: 2.1316282072803006e-14\n"
     ]
    },
    {
     "name": "stderr",
     "output_type": "stream",
     "text": [
      "/Users/ma.m/.virtualenvs/controlmodern/lib/python3.12/site-packages/scipy/signal/_filter_design.py:1112: BadCoefficients: Badly conditioned filter coefficients (numerator): the results may be meaningless\n",
      "  b, a = normalize(b, a)\n"
     ]
    }
   ],
   "source": [
    "import numpy as np\n",
    "from scipy.signal import ss2tf, StateSpace, TransferFunction, tf2zpk\n",
    "\n",
    "# Define system matrices\n",
    "A = np.array([[0, 1, 0],\n",
    "              [0, 0, 4.438],\n",
    "              [0, -12, -24]])\n",
    "\n",
    "b1 = np.array([0, 0, 20]).reshape(-1, 1)\n",
    "b2 = np.array([0, -7.396, 0]).reshape(-1, 1)\n",
    "B = np.hstack((b1, b2))\n",
    "\n",
    "C = np.array([1, 0, 0])\n",
    "D = np.array([0, 0])\n",
    "\n",
    "# Create state space system\n",
    "DCM = StateSpace(A, B, C, D)\n",
    "\n",
    "# Conversion to transfer function\n",
    "num, den = ss2tf(A, B, C, D)\n",
    "print(\"Transfer Function:\")\n",
    "for i in range(len(num)):\n",
    "    print(f\"Input {i+1}:\")\n",
    "    print(\"Numerator:\", num[i])\n",
    "    print(\"Denominator:\", den)\n",
    "\n",
    "# Conversion to zero-pole-gain\n",
    "for i in range(len(num)):\n",
    "    zeros, poles, gain = tf2zpk(num[i], den)\n",
    "    print(f\"\\nZero-Pole-Gain for input {i+1}:\")\n",
    "    print(\"Zeros:\", zeros)\n",
    "    print(\"Poles:\", poles)\n",
    "    print(\"Gain:\", gain)\n"
   ]
  },
  {
   "cell_type": "code",
   "execution_count": null,
   "metadata": {},
   "outputs": [],
   "source": []
  }
 ],
 "metadata": {
  "kernelspec": {
   "display_name": "controlmodern",
   "language": "python",
   "name": "python3"
  },
  "language_info": {
   "codemirror_mode": {
    "name": "ipython",
    "version": 3
   },
   "file_extension": ".py",
   "mimetype": "text/x-python",
   "name": "python",
   "nbconvert_exporter": "python",
   "pygments_lexer": "ipython3",
   "version": "3.12.3"
  }
 },
 "nbformat": 4,
 "nbformat_minor": 2
}
