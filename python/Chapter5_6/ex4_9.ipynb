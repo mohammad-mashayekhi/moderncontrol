{
 "cells": [
  {
   "cell_type": "code",
   "execution_count": 1,
   "metadata": {},
   "outputs": [
    {
     "name": "stdout",
     "output_type": "stream",
     "text": [
      "Controllability matrix C:\n",
      " [[ 0.5 -0.5]\n",
      " [ 0.5 -0.5]]\n",
      "Rank of controllability matrix C: 1\n",
      "Null space of controllability matrix C:\n",
      " [-0.70710678 -0.70710678]\n"
     ]
    }
   ],
   "source": [
    "import numpy as np\n",
    "\n",
    "# Define the system matrices A and B\n",
    "A = np.array([[-3/2, 1/2],\n",
    "              [1/2, -3/2]])\n",
    "\n",
    "B = np.array([[1/2],\n",
    "              [1/2]])\n",
    "\n",
    "# Calculate controllability matrix C\n",
    "C = np.hstack([np.linalg.matrix_power(A, i) @ B for i in range(A.shape[0])])\n",
    "\n",
    "# Compute rank of C\n",
    "rank_C = np.linalg.matrix_rank(C)\n",
    "\n",
    "# Compute null space of C using SVD\n",
    "_, _, V = np.linalg.svd(C)\n",
    "null_space_C = V.T[:, np.sum(np.isclose(_, 0), axis=0)]\n",
    "\n",
    "# Print results\n",
    "print(\"Controllability matrix C:\\n\", C)\n",
    "print(\"Rank of controllability matrix C:\", rank_C)\n",
    "print(\"Null space of controllability matrix C:\\n\", null_space_C)\n"
   ]
  }
 ],
 "metadata": {
  "kernelspec": {
   "display_name": "controlmodern",
   "language": "python",
   "name": "python3"
  },
  "language_info": {
   "codemirror_mode": {
    "name": "ipython",
    "version": 3
   },
   "file_extension": ".py",
   "mimetype": "text/x-python",
   "name": "python",
   "nbconvert_exporter": "python",
   "pygments_lexer": "ipython3",
   "version": "3.12.3"
  }
 },
 "nbformat": 4,
 "nbformat_minor": 2
}
