{
 "cells": [
  {
   "cell_type": "code",
   "execution_count": 10,
   "metadata": {},
   "outputs": [
    {
     "name": "stdout",
     "output_type": "stream",
     "text": [
      "Observability matrix O:\n",
      " [[ 1. -2.]\n",
      " [-1.  2.]]\n",
      "Rank of observability matrix O: 1\n",
      "Null space of observability matrix O:\n",
      " []\n"
     ]
    }
   ],
   "source": [
    "import numpy as np\n",
    "\n",
    "# Define the system matrices A and C\n",
    "A = np.array([[-3/2, 1/2],\n",
    "              [1/2, -3/2]])\n",
    "\n",
    "C = np.array([[1, -1]])\n",
    "\n",
    "# Calculate observability matrix O\n",
    "n = A.shape[0]  # Number of states\n",
    "O = np.zeros((n, n))\n",
    "\n",
    "for i in range(n):\n",
    "    O[:, i] = np.linalg.matrix_power(A, i) @ C.T.flatten()\n",
    "\n",
    "# Compute rank of O\n",
    "rank_O = np.linalg.matrix_rank(O)\n",
    "\n",
    "# Compute null space of O using eigenvectors\n",
    "eigenvalues, eigenvectors = np.linalg.eig(A.T)\n",
    "null_space_O = eigenvectors[:, np.isclose(eigenvalues, 0)]\n",
    "\n",
    "# Print results\n",
    "print(\"Observability matrix O:\\n\", O)\n",
    "print(\"Rank of observability matrix O:\", rank_O)\n",
    "print(\"Null space of observability matrix O:\\n\", null_space_O)\n"
   ]
  },
  {
   "cell_type": "code",
   "execution_count": null,
   "metadata": {},
   "outputs": [],
   "source": []
  }
 ],
 "metadata": {
  "kernelspec": {
   "display_name": "controlmodern",
   "language": "python",
   "name": "python3"
  },
  "language_info": {
   "codemirror_mode": {
    "name": "ipython",
    "version": 3
   },
   "file_extension": ".py",
   "mimetype": "text/x-python",
   "name": "python",
   "nbconvert_exporter": "python",
   "pygments_lexer": "ipython3",
   "version": "3.12.3"
  }
 },
 "nbformat": 4,
 "nbformat_minor": 2
}
