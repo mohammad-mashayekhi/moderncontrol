{
 "cells": [
  {
   "cell_type": "code",
   "execution_count": 1,
   "metadata": {},
   "outputs": [
    {
     "name": "stdout",
     "output_type": "stream",
     "text": [
      "Matrix P:\n",
      "[[-23.   7.]\n",
      " [  7. -11.]]\n",
      "\n",
      "Determinant of P:\n",
      "203.99999999999991\n"
     ]
    }
   ],
   "source": [
    "import numpy as np\n",
    "from scipy.linalg import solve_continuous_lyapunov, det\n",
    "\n",
    "# Define matrix A and Q\n",
    "A = np.array([[-1, -2], [1, -4]])\n",
    "Q = np.eye(2)\n",
    "\n",
    "# Solve the continuous Lyapunov equation\n",
    "P = 60 * solve_continuous_lyapunov(A.T, Q)\n",
    "\n",
    "# Calculate the determinant of P\n",
    "det_P = det(P)\n",
    "\n",
    "print(\"Matrix P:\")\n",
    "print(P)\n",
    "print(\"\\nDeterminant of P:\")\n",
    "print(det_P)\n"
   ]
  }
 ],
 "metadata": {
  "kernelspec": {
   "display_name": "controlmodern",
   "language": "python",
   "name": "python3"
  },
  "language_info": {
   "codemirror_mode": {
    "name": "ipython",
    "version": 3
   },
   "file_extension": ".py",
   "mimetype": "text/x-python",
   "name": "python",
   "nbconvert_exporter": "python",
   "pygments_lexer": "ipython3",
   "version": "3.12.3"
  }
 },
 "nbformat": 4,
 "nbformat_minor": 2
}
