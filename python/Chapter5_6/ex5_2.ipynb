{
 "cells": [
  {
   "cell_type": "code",
   "execution_count": 1,
   "metadata": {},
   "outputs": [
    {
     "name": "stdout",
     "output_type": "stream",
     "text": [
      "Transfer function sys1:\n",
      " <TransferFunction>: sys[1]\n",
      "Inputs (1): ['u[0]']\n",
      "Outputs (1): ['y[0]']\n",
      "\n",
      "\n",
      "    s^2 - 2 s + 1\n",
      "---------------------\n",
      "s^3 + 4 s^2 + 5 s + 2\n",
      "\n",
      "\n",
      "Transfer function sys2:\n",
      " <TransferFunction>: sys[3]\n",
      "Inputs (1): ['u[0]']\n",
      "Outputs (1): ['y[0]']\n",
      "\n",
      "\n",
      "    s^2 - 2 s + 1\n",
      "---------------------\n",
      "s^3 + 4 s^2 + 5 s + 2\n",
      "\n"
     ]
    }
   ],
   "source": [
    "import numpy as np\n",
    "import control as ctrl\n",
    "\n",
    "# Define system matrices for sys1\n",
    "A1 = np.array([[-1, 1, 0],\n",
    "               [0, -1, 0],\n",
    "               [0, 0, -2]])\n",
    "B1 = np.array([[0], [1], [1]])\n",
    "C1 = np.array([[4, -8, 9]])\n",
    "D1 = np.array([[0]])\n",
    "\n",
    "# Create state-space system sys1\n",
    "sys1 = ctrl.ss(A1, B1, C1, D1)\n",
    "\n",
    "# Convert sys1 to transfer function\n",
    "sys1_tf = ctrl.tf(sys1)\n",
    "print(\"Transfer function sys1:\\n\", sys1_tf)\n",
    "\n",
    "# Define system matrices for sys2\n",
    "A2 = np.array([[-1, 0, 0],\n",
    "               [1, -1, 0],\n",
    "               [0, 0, -2]])\n",
    "B2 = np.array([[4], [-8], [9]])\n",
    "C2 = np.array([[0, 1, 1]])\n",
    "D2 = np.array([[0]])\n",
    "\n",
    "# Create state-space system sys2\n",
    "sys2 = ctrl.ss(A2, B2, C2, D2)\n",
    "\n",
    "# Convert sys2 to transfer function\n",
    "sys2_tf = ctrl.tf(sys2)\n",
    "print(\"\\nTransfer function sys2:\\n\", sys2_tf)\n"
   ]
  },
  {
   "cell_type": "code",
   "execution_count": null,
   "metadata": {},
   "outputs": [],
   "source": []
  }
 ],
 "metadata": {
  "kernelspec": {
   "display_name": "controlmodern",
   "language": "python",
   "name": "python3"
  },
  "language_info": {
   "codemirror_mode": {
    "name": "ipython",
    "version": 3
   },
   "file_extension": ".py",
   "mimetype": "text/x-python",
   "name": "python",
   "nbconvert_exporter": "python",
   "pygments_lexer": "ipython3",
   "version": "3.12.3"
  }
 },
 "nbformat": 4,
 "nbformat_minor": 2
}
