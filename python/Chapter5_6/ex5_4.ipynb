{
 "cells": [
  {
   "cell_type": "code",
   "execution_count": 9,
   "metadata": {},
   "outputs": [
    {
     "name": "stdout",
     "output_type": "stream",
     "text": [
      "Transfer Function System:\n",
      "<TransferFunction>: sys[62]\n",
      "Inputs (2): ['u[0]', 'u[1]']\n",
      "Outputs (2): ['y[0]', 'y[1]']\n",
      "\n",
      "\n",
      "Input 1 to output 1:\n",
      "  1\n",
      "-----\n",
      "s + 1\n",
      "\n",
      "Input 1 to output 2:\n",
      " -1\n",
      "-----\n",
      "s + 1\n",
      "\n",
      "Input 2 to output 1:\n",
      "  2\n",
      "-----\n",
      "s + 2\n",
      "\n",
      "Input 2 to output 2:\n",
      "  1\n",
      "-----\n",
      "s + 3\n",
      "\n"
     ]
    },
    {
     "ename": "ControlMIMONotImplemented",
     "evalue": "MIMO system conversion not supported without Slycot",
     "output_type": "error",
     "traceback": [
      "\u001b[0;31m---------------------------------------------------------------------------\u001b[0m",
      "\u001b[0;31mControlMIMONotImplemented\u001b[0m                 Traceback (most recent call last)",
      "Cell \u001b[0;32mIn[9], line 15\u001b[0m\n\u001b[1;32m     12\u001b[0m \u001b[38;5;28mprint\u001b[39m(sys)\n\u001b[1;32m     14\u001b[0m \u001b[38;5;66;03m# Convert to state-space and minimal realization\u001b[39;00m\n\u001b[0;32m---> 15\u001b[0m sys_ss \u001b[38;5;241m=\u001b[39m minreal(\u001b[43mss\u001b[49m\u001b[43m(\u001b[49m\u001b[43msys\u001b[49m\u001b[43m)\u001b[49m)\n\u001b[1;32m     16\u001b[0m \u001b[38;5;28mprint\u001b[39m(\u001b[38;5;124m'\u001b[39m\u001b[38;5;130;01m\\n\u001b[39;00m\u001b[38;5;124mState-Space System (minimal realization):\u001b[39m\u001b[38;5;124m'\u001b[39m)\n\u001b[1;32m     17\u001b[0m \u001b[38;5;28mprint\u001b[39m(sys_ss)\n",
      "File \u001b[0;32m~/.virtualenvs/controlmodern/lib/python3.12/site-packages/control/statesp.py:1630\u001b[0m, in \u001b[0;36mss\u001b[0;34m(*args, **kwargs)\u001b[0m\n\u001b[1;32m   1626\u001b[0m     method \u001b[38;5;241m=\u001b[39m kwargs\u001b[38;5;241m.\u001b[39mpop(\u001b[38;5;124m'\u001b[39m\u001b[38;5;124mmethod\u001b[39m\u001b[38;5;124m'\u001b[39m, \u001b[38;5;28;01mNone\u001b[39;00m)\n\u001b[1;32m   1628\u001b[0m     \u001b[38;5;66;03m# Create a state space system from an LTI system\u001b[39;00m\n\u001b[1;32m   1629\u001b[0m     sys \u001b[38;5;241m=\u001b[39m StateSpace(\n\u001b[0;32m-> 1630\u001b[0m         \u001b[43m_convert_to_statespace\u001b[49m\u001b[43m(\u001b[49m\n\u001b[1;32m   1631\u001b[0m \u001b[43m            \u001b[49m\u001b[43msys\u001b[49m\u001b[43m,\u001b[49m\u001b[43m \u001b[49m\u001b[43mmethod\u001b[49m\u001b[38;5;241;43m=\u001b[39;49m\u001b[43mmethod\u001b[49m\u001b[43m,\u001b[49m\n\u001b[1;32m   1632\u001b[0m \u001b[43m            \u001b[49m\u001b[43muse_prefix_suffix\u001b[49m\u001b[38;5;241;43m=\u001b[39;49m\u001b[38;5;129;43;01mnot\u001b[39;49;00m\u001b[43m \u001b[49m\u001b[43msys\u001b[49m\u001b[38;5;241;43m.\u001b[39;49m\u001b[43m_generic_name_check\u001b[49m\u001b[43m(\u001b[49m\u001b[43m)\u001b[49m\u001b[43m)\u001b[49m,\n\u001b[1;32m   1633\u001b[0m         \u001b[38;5;241m*\u001b[39m\u001b[38;5;241m*\u001b[39mkwargs)\n\u001b[1;32m   1635\u001b[0m \u001b[38;5;28;01melse\u001b[39;00m:\n\u001b[1;32m   1636\u001b[0m     \u001b[38;5;28;01mraise\u001b[39;00m \u001b[38;5;167;01mTypeError\u001b[39;00m(\u001b[38;5;124m\"\u001b[39m\u001b[38;5;124mss(sys): sys must be a StateSpace or \u001b[39m\u001b[38;5;124m\"\u001b[39m\n\u001b[1;32m   1637\u001b[0m                     \u001b[38;5;124m\"\u001b[39m\u001b[38;5;124mTransferFunction object.  It is \u001b[39m\u001b[38;5;132;01m%s\u001b[39;00m\u001b[38;5;124m.\u001b[39m\u001b[38;5;124m\"\u001b[39m \u001b[38;5;241m%\u001b[39m \u001b[38;5;28mtype\u001b[39m(sys))\n",
      "File \u001b[0;32m~/.virtualenvs/controlmodern/lib/python3.12/site-packages/control/statesp.py:2272\u001b[0m, in \u001b[0;36m_convert_to_statespace\u001b[0;34m(sys, use_prefix_suffix, method)\u001b[0m\n\u001b[1;32m   2270\u001b[0m \u001b[38;5;28;01melse\u001b[39;00m:\n\u001b[1;32m   2271\u001b[0m     \u001b[38;5;28;01mif\u001b[39;00m \u001b[38;5;129;01mnot\u001b[39;00m issiso(sys):\n\u001b[0;32m-> 2272\u001b[0m         \u001b[38;5;28;01mraise\u001b[39;00m ControlMIMONotImplemented(\n\u001b[1;32m   2273\u001b[0m             \u001b[38;5;124m\"\u001b[39m\u001b[38;5;124mMIMO system conversion not supported without Slycot\u001b[39m\u001b[38;5;124m\"\u001b[39m)\n\u001b[1;32m   2275\u001b[0m     A, B, C, D \u001b[38;5;241m=\u001b[39m \\\n\u001b[1;32m   2276\u001b[0m         sp\u001b[38;5;241m.\u001b[39msignal\u001b[38;5;241m.\u001b[39mtf2ss(squeeze(sys\u001b[38;5;241m.\u001b[39mnum), squeeze(sys\u001b[38;5;241m.\u001b[39mden))\n\u001b[1;32m   2277\u001b[0m     newsys \u001b[38;5;241m=\u001b[39m StateSpace(A, B, C, D, sys\u001b[38;5;241m.\u001b[39mdt)\n",
      "\u001b[0;31mControlMIMONotImplemented\u001b[0m: MIMO system conversion not supported without Slycot"
     ]
    }
   ],
   "source": [
    "import numpy as np\n",
    "import control as ctrl\n",
    "from control import tf, ss, minreal\n",
    "\n",
    "# Define the transfer function components for a MIMO system\n",
    "num = [[[1], [2]], [[-1], [1]]]\n",
    "den = [[[1, 1], [1, 2]], [[1, 1], [1, 3]]]\n",
    "\n",
    "# Create the transfer function system\n",
    "sys = tf(num, den)\n",
    "print('Transfer Function System:')\n",
    "print(sys)\n",
    "\n",
    "# Convert to state-space and minimal realization\n",
    "sys_ss = minreal(ss(sys))\n",
    "print('\\nState-Space System (minimal realization):')\n",
    "print(sys_ss)\n",
    "\n",
    "# Define the state-space matrices directly\n",
    "A = np.array([[0, -1], [0, -1]])\n",
    "B = np.array([[1, 2], [-1, 1]])\n",
    "C = np.array([[1, 0], [0, 1]])\n",
    "D = np.array([[0, 0], [0, 0]])\n",
    "\n",
    "# Create the state-space system\n",
    "myss = ss(A, B, C, D)\n",
    "myss_min = minreal(myss)\n",
    "print('\\nDirectly Defined State-Space System (minimal realization):')\n",
    "print(myss_min)\n",
    "\n",
    "# Define the transfer functions in terms of s\n",
    "s = tf('s')\n",
    "G11 = 1 / (s + 1)\n",
    "G12 = 2 / (s + 2)\n",
    "G21 = -1 / (s + 1)\n",
    "G22 = 1 / (s + 3)\n",
    "\n",
    "# Define the interconnected system using matrices\n",
    "G = ctrl.interconnect([[G11, G12], [G21, G22]], inputs=['u1', 'u2'], outputs=['y1', 'y2'])\n",
    "\n",
    "# Minimal realization of the interconnected system\n",
    "G_min = minreal(G)\n",
    "print('\\nInterconnected System (minimal realization):')\n",
    "print(G_min)\n"
   ]
  },
  {
   "cell_type": "code",
   "execution_count": null,
   "metadata": {},
   "outputs": [],
   "source": []
  }
 ],
 "metadata": {
  "kernelspec": {
   "display_name": "controlmodern",
   "language": "python",
   "name": "python3"
  },
  "language_info": {
   "codemirror_mode": {
    "name": "ipython",
    "version": 3
   },
   "file_extension": ".py",
   "mimetype": "text/x-python",
   "name": "python",
   "nbconvert_exporter": "python",
   "pygments_lexer": "ipython3",
   "version": "3.12.3"
  }
 },
 "nbformat": 4,
 "nbformat_minor": 2
}
